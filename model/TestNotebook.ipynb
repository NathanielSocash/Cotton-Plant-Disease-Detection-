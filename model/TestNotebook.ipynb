{
 "cells": [
  {
   "cell_type": "markdown",
   "metadata": {},
   "source": [
    "# Cotton Plant Disease Detection\n",
    "\n",
    "**Cotton Plant Disease Detection using a Convolutional Neural Network (CNN)**\n",
    "\n",
    "  This project seeks to build a machine-learning model using a Convolutional Neural Network (CNN) and image processing to diagnose cotton plants with specific diseases, paired with a comparative analysis of different image processing algorithms. We aim to build a functional model and port this model to a working android mobile app for the benefit of farmers and researchers.\n",
    "\n",
    "\n",
    "** **\n"
   ]
  },
  {
   "cell_type": "markdown",
   "metadata": {},
   "source": [
    "## 1. Importing libraries & preprocessing"
   ]
  },
  {
   "cell_type": "code",
   "execution_count": 31,
   "metadata": {},
   "outputs": [
    {
     "name": "stdout",
     "output_type": "stream",
     "text": [
      "Output\n",
      "1.21.3\n",
      "2.11.0\n"
     ]
    }
   ],
   "source": [
    "# Computational libraries\n",
    "import numpy as np          #linear algebra\n",
    "import pandas as pd         # data processing\n",
    "import os\n",
    "#import utilities           I don't think this will be usefull \n",
    "\n",
    "# Keras Optimizers\n",
    "#import wandb\n",
    "#from wandb.keras import WandbMetricsLogger\n",
    "\n",
    "# Imporitng Data Visualization Libraries\n",
    "import matplotlib.pyplot as plt\n",
    "%matplotlib inline\n",
    "plt.rcParams[\"figure.figsize\"] = [10, 5]\n",
    "\n",
    "#Import miscellaneous libraries\n",
    "pd.set_option(\"display.max_columns\",None)\n",
    "pd.set_option(\"display.max_rows\",None)\n",
    "pd.set_option('display.width', None)\n",
    "\n",
    "#Importing Warning Libraries\n",
    "import warnings\n",
    "warnings.filterwarnings(\"ignore\")\n",
    "\n",
    "# Importing Data Preparation and Modeling Libraries\n",
    "from sklearn.model_selection import train_test_split\n",
    "import sklearn.metrics as metrics\n",
    "from sklearn.metrics import *\n",
    "\n",
    "# Convolutional Neural Network\n",
    "\n",
    "# Import Sequential\n",
    "from keras.models import Sequential\n",
    "\n",
    "# Importing the tensorflow  libraries\n",
    "import tensorflow as tf\n",
    "from tensorflow.keras.preprocessing.image import ImageDataGenerator\n",
    "from tensorflow.keras import *\n",
    "from tensorflow.keras.layers import (\n",
    "    Conv2D,\n",
    "    Dense,\n",
    "    Dropout,\n",
    "    Flatten,\n",
    "    MaxPool2D\n",
    ")\n",
    "from tensorflow.keras.preprocessing import image\n",
    "\n",
    "# determine library versions\n",
    "print(\"Output\")\n",
    "print(np.__version__)\n",
    "print(tf.__version__)"
   ]
  },
  {
   "cell_type": "code",
   "execution_count": 32,
   "metadata": {},
   "outputs": [
    {
     "name": "stdout",
     "output_type": "stream",
     "text": [
      "Found 1951 images belonging to 4 classes.\n"
     ]
    }
   ],
   "source": [
    "# Part 1 - Data Preprocessing\n",
    "\n",
    "# Preprocessing the Training set\n",
    "#/kaggle/input/cotton-disease-dataset/Cotton Disease/train      Original Path\n",
    "\n",
    "train_datagen = ImageDataGenerator(rescale = 1.0/255, shear_range = 0.2, zoom_range = 0.2,\n",
    "                                  horizontal_flip = True,vertical_flip = True,\n",
    "                                  rotation_range=20,width_shift_range=0.2,\n",
    "                                height_shift_range=0.2)\n",
    "\n",
    "train_df = train_datagen.flow_from_directory(r'C:\\Cotton Disease\\train',\n",
    "                                            target_size = (128,128), batch_size = 32, class_mode= 'categorical',\n",
    "                                            seed=42,shuffle=True)"
   ]
  },
  {
   "cell_type": "code",
   "execution_count": 33,
   "metadata": {},
   "outputs": [
    {
     "name": "stdout",
     "output_type": "stream",
     "text": [
      "Found 253 images belonging to 4 classes.\n"
     ]
    }
   ],
   "source": [
    "# Preprocessing the validation set\n",
    "valid_datagen = ImageDataGenerator(rescale = 1.0/255)\n",
    "\n",
    "valid_df = valid_datagen.flow_from_directory(r'C:\\Cotton Disease\\val',\n",
    "                                            target_size = (128, 128), batch_size = 32,\n",
    "                                            class_mode = 'categorical',seed=42,shuffle=True)"
   ]
  },
  {
   "cell_type": "code",
   "execution_count": 34,
   "metadata": {},
   "outputs": [
    {
     "name": "stdout",
     "output_type": "stream",
     "text": [
      "Found 106 images belonging to 4 classes.\n"
     ]
    }
   ],
   "source": [
    "# Preprocessing the Test set\n",
    "test_datagen = ImageDataGenerator(rescale = 1.0/255)\n",
    "\n",
    "test_df = test_datagen.flow_from_directory(r'C:\\Cotton Disease\\test',\n",
    "                                            target_size = (128,128), batch_size = 32,\n",
    "                                            class_mode = 'categorical',seed=42,shuffle=False)"
   ]
  },
  {
   "cell_type": "markdown",
   "metadata": {},
   "source": [
    "## 2. Building Convolutional Neural Network (CNN)"
   ]
  },
  {
   "cell_type": "code",
   "execution_count": 35,
   "metadata": {},
   "outputs": [],
   "source": [
    "# Part 2 -  Building the CNN\n",
    "\n",
    "# Initialising the CNN\n",
    "model = Sequential()          # replace 'cnn' variable name with 'model'\n",
    "\n",
    "# Step 1 - Convolution\n",
    "model.add(Conv2D(filters = 32, padding = 'same', kernel_size=3, activation='relu',\n",
    "                              input_shape=[128, 128, 3]))\n",
    "\n",
    "# Step 2 - Pooling\n",
    "model.add(MaxPool2D(pool_size=2, strides=2))\n",
    "\n",
    "model.add(Dropout(rate=0.25))\n",
    "\n",
    "# Adding a second convolutional layer\n",
    "model.add(Conv2D(filters = 32, padding='same', kernel_size=3, activation='relu'))\n",
    "model.add(Conv2D(filters = 64, padding='same', kernel_size=3, activation='relu'))\n",
    "model.add(MaxPool2D(pool_size=2, strides=2))\n",
    "\n",
    "model.add(Dropout(rate=0.25))\n",
    "\n",
    "# Step 3 - Flattening\n",
    "model.add(Flatten())\n",
    "\n",
    "# Step 4 - Full Connection\n",
    "model.add(Dense(units=128, activation='relu'))\n",
    "model.add(Dense(units=128, activation='relu'))\n",
    "\n",
    "model.add(Dropout(rate=0.25))\n",
    "\n",
    "# Step 5 - Output layer\n",
    "model.add(Dense(units=4, activation='softmax'))"
   ]
  },
  {
   "cell_type": "code",
   "execution_count": 36,
   "metadata": {},
   "outputs": [
    {
     "name": "stdout",
     "output_type": "stream",
     "text": [
      "Model: \"sequential_2\"\n",
      "_________________________________________________________________\n",
      " Layer (type)                Output Shape              Param #   \n",
      "=================================================================\n",
      " conv2d_6 (Conv2D)           (None, 128, 128, 32)      896       \n",
      "                                                                 \n",
      " max_pooling2d_4 (MaxPooling  (None, 64, 64, 32)       0         \n",
      " 2D)                                                             \n",
      "                                                                 \n",
      " dropout_6 (Dropout)         (None, 64, 64, 32)        0         \n",
      "                                                                 \n",
      " conv2d_7 (Conv2D)           (None, 64, 64, 32)        9248      \n",
      "                                                                 \n",
      " conv2d_8 (Conv2D)           (None, 64, 64, 64)        18496     \n",
      "                                                                 \n",
      " max_pooling2d_5 (MaxPooling  (None, 32, 32, 64)       0         \n",
      " 2D)                                                             \n",
      "                                                                 \n",
      " dropout_7 (Dropout)         (None, 32, 32, 64)        0         \n",
      "                                                                 \n",
      " flatten_2 (Flatten)         (None, 65536)             0         \n",
      "                                                                 \n",
      " dense_6 (Dense)             (None, 128)               8388736   \n",
      "                                                                 \n",
      " dense_7 (Dense)             (None, 128)               16512     \n",
      "                                                                 \n",
      " dropout_8 (Dropout)         (None, 128)               0         \n",
      "                                                                 \n",
      " dense_8 (Dense)             (None, 4)                 516       \n",
      "                                                                 \n",
      "=================================================================\n",
      "Total params: 8,434,404\n",
      "Trainable params: 8,434,404\n",
      "Non-trainable params: 0\n",
      "_________________________________________________________________\n"
     ]
    }
   ],
   "source": [
    "model.summary()"
   ]
  },
  {
   "cell_type": "markdown",
   "metadata": {},
   "source": [
    "## 3. Training the CNN"
   ]
  },
  {
   "cell_type": "code",
   "execution_count": 37,
   "metadata": {},
   "outputs": [],
   "source": [
    "# Part 3 - Training the CNN\n",
    "\n",
    "# Compiling the CNN\n",
    "model.compile(optimizer = 'adam',loss = 'categorical_crossentropy', metrics = ['accuracy'])"
   ]
  },
  {
   "cell_type": "code",
   "execution_count": 38,
   "metadata": {},
   "outputs": [
    {
     "name": "stdout",
     "output_type": "stream",
     "text": [
      "Epoch 1/20\n",
      "61/61 [==============================] - 50s 788ms/step - loss: 1.3681 - accuracy: 0.4095 - val_loss: 1.1563 - val_accuracy: 0.4032\n",
      "Epoch 2/20\n",
      "61/61 [==============================] - 45s 739ms/step - loss: 1.1337 - accuracy: 0.4885 - val_loss: 1.0437 - val_accuracy: 0.5217\n",
      "Epoch 3/20\n",
      "61/61 [==============================] - 47s 768ms/step - loss: 1.0403 - accuracy: 0.5541 - val_loss: 1.0117 - val_accuracy: 0.5613\n",
      "Epoch 4/20\n",
      "61/61 [==============================] - 49s 809ms/step - loss: 0.9781 - accuracy: 0.5720 - val_loss: 1.2090 - val_accuracy: 0.4783\n",
      "Epoch 5/20\n",
      "61/61 [==============================] - 62s 1s/step - loss: 0.8999 - accuracy: 0.6248 - val_loss: 1.0195 - val_accuracy: 0.5731\n",
      "Epoch 6/20\n",
      "61/61 [==============================] - 61s 987ms/step - loss: 0.7993 - accuracy: 0.6684 - val_loss: 0.6385 - val_accuracy: 0.7866\n",
      "Epoch 7/20\n",
      "61/61 [==============================] - 44s 714ms/step - loss: 0.7716 - accuracy: 0.6976 - val_loss: 0.6421 - val_accuracy: 0.7708\n",
      "Epoch 8/20\n",
      "61/61 [==============================] - 42s 684ms/step - loss: 0.7568 - accuracy: 0.7017 - val_loss: 0.7755 - val_accuracy: 0.6522\n",
      "Epoch 9/20\n",
      "61/61 [==============================] - 43s 700ms/step - loss: 0.7018 - accuracy: 0.7145 - val_loss: 0.8806 - val_accuracy: 0.6285\n",
      "Epoch 10/20\n",
      "61/61 [==============================] - 53s 862ms/step - loss: 0.6715 - accuracy: 0.7201 - val_loss: 0.5836 - val_accuracy: 0.7668\n",
      "Epoch 11/20\n",
      "61/61 [==============================] - 47s 775ms/step - loss: 0.6428 - accuracy: 0.7386 - val_loss: 0.6877 - val_accuracy: 0.7273\n",
      "Epoch 12/20\n",
      "61/61 [==============================] - 44s 725ms/step - loss: 0.6435 - accuracy: 0.7376 - val_loss: 0.7064 - val_accuracy: 0.7194\n",
      "Epoch 13/20\n",
      "61/61 [==============================] - 46s 746ms/step - loss: 0.6061 - accuracy: 0.7622 - val_loss: 0.4781 - val_accuracy: 0.8379\n",
      "Epoch 14/20\n",
      "61/61 [==============================] - 43s 697ms/step - loss: 0.5373 - accuracy: 0.7919 - val_loss: 0.5820 - val_accuracy: 0.7510\n",
      "Epoch 15/20\n",
      "61/61 [==============================] - 47s 768ms/step - loss: 0.5735 - accuracy: 0.7801 - val_loss: 0.3474 - val_accuracy: 0.8617\n",
      "Epoch 16/20\n",
      "61/61 [==============================] - 61s 1s/step - loss: 0.5373 - accuracy: 0.7806 - val_loss: 0.5607 - val_accuracy: 0.7589\n",
      "Epoch 17/20\n",
      "61/61 [==============================] - 45s 739ms/step - loss: 0.5404 - accuracy: 0.7909 - val_loss: 0.4562 - val_accuracy: 0.8024\n",
      "Epoch 18/20\n",
      "61/61 [==============================] - 46s 750ms/step - loss: 0.4782 - accuracy: 0.8216 - val_loss: 0.3711 - val_accuracy: 0.8656\n",
      "Epoch 19/20\n",
      "61/61 [==============================] - 46s 757ms/step - loss: 0.4790 - accuracy: 0.8221 - val_loss: 0.3890 - val_accuracy: 0.8498\n",
      "Epoch 20/20\n",
      "61/61 [==============================] - 53s 870ms/step - loss: 0.4407 - accuracy: 0.8227 - val_loss: 0.2714 - val_accuracy: 0.9130\n"
     ]
    }
   ],
   "source": [
    "# Training the CNN on the Training set & evaluating it on the validation set\n",
    "# model.fit(x = train_df, validation_data = valid_df, epochs = 10)\n",
    "history = model.fit(train_df, validation_data = valid_df, epochs = 20)"
   ]
  },
  {
   "cell_type": "code",
   "execution_count": 113,
   "metadata": {},
   "outputs": [
    {
     "data": {
      "image/png": "[encoded data removed]",
      "text/plain": [
       "<Figure size 1000x500 with 1 Axes>"
      ]
     },
     "metadata": {},
     "output_type": "display_data"
    }
   ],
   "source": [
    "#sumarize history for model accuracy \n",
    "#x = [0.0, 2.0, 4.0, 6.0, 8.0, 10.0, 12.0, 14.0, 16.0, 18.0]\n",
    "plt.plot(history.history['accuracy'])\n",
    "plt.plot(history.history['val_accuracy'])\n",
    "plt.title('model accuracy')\n",
    "plt.ylabel('accuracy')\n",
    "plt.xlabel('epoch')\n",
    "#plt.xticks(x)\n",
    "plt.legend(['train', 'validation'], loc='upper left')\n",
    "#plt.show()\n",
    "plt.savefig('model_accuracy.png', dpi= 200, bbox_inches='tight')\n"
   ]
  },
  {
   "cell_type": "code",
   "execution_count": 101,
   "metadata": {},
   "outputs": [
    {
     "data": {
      "image/png": "[encoded data removed]",
      "text/plain": [
       "<Figure size 1000x500 with 1 Axes>"
      ]
     },
     "metadata": {},
     "output_type": "display_data"
    }
   ],
   "source": [
    "# summarize history for loss\n",
    "plt.plot(history.history['loss'])\n",
    "plt.plot(history.history['val_loss'])\n",
    "plt.title('model loss')\n",
    "plt.ylabel('loss')\n",
    "plt.xlabel('epoch')\n",
    "plt.legend(['train', 'validation'], loc='upper left')\n",
    "#plt.show()\n",
    "plt.savefig('model_loss.png', dpi= 200, bbox_inches='tight')"
   ]
  },
  {
   "cell_type": "markdown",
   "metadata": {},
   "source": [
    "## 4. Making predictions"
   ]
  },
  {
   "cell_type": "code",
   "execution_count": 50,
   "metadata": {},
   "outputs": [
    {
     "name": "stdout",
     "output_type": "stream",
     "text": [
      "8/8 [==============================] - 2s 192ms/step - loss: 0.2714 - accuracy: 0.9130\n"
     ]
    },
    {
     "data": {
      "text/plain": [
       "[0.2713697552680969, 0.9130434989929199]"
      ]
     },
     "execution_count": 50,
     "metadata": {},
     "output_type": "execute_result"
    }
   ],
   "source": [
    "model.evaluate(valid_df)"
   ]
  },
  {
   "cell_type": "code",
   "execution_count": 51,
   "metadata": {},
   "outputs": [
    {
     "name": "stdout",
     "output_type": "stream",
     "text": [
      "1/1 [==============================] - 0s 33ms/step\n"
     ]
    },
    {
     "data": {
      "text/plain": [
       "'diseased cotton plant'"
      ]
     },
     "execution_count": 51,
     "metadata": {},
     "output_type": "execute_result"
    }
   ],
   "source": [
    "# test_image = image.load_img('/kaggle/input/cotton-disease-dataset/Cotton Disease/test/fresh cotton plant/dsd (223).jpg', target_size = (128, 128))\n",
    "# test_image\n",
    "\n",
    "\n",
    "pred = [\"diseased cotton leaf\",\"diseased cotton plant\",\"fresh cotton leaf\",\"fresh cotton plant\"]\n",
    "test_image = image.load_img(r\"C:\\Users\\Natha\\OneDrive\\Desktop\\Senior Project\\Cotton Disease\\test\\fresh cotton plant\\dsd (264)_iaip.jpg\", target_size = (128, 128))\n",
    "test_image = image.img_to_array(test_image)\n",
    "test_image=test_image/255\n",
    "test_image = np.expand_dims(test_image, axis = 0)\n",
    "result = model.predict(test_image)\n",
    "pred[result.argmax()]"
   ]
  },
  {
   "cell_type": "code",
   "execution_count": 52,
   "metadata": {},
   "outputs": [
    {
     "name": "stdout",
     "output_type": "stream",
     "text": [
      "1/1 [==============================] - 0s 47ms/step\n"
     ]
    },
    {
     "data": {
      "text/plain": [
       "'fresh cotton leaf'"
      ]
     },
     "execution_count": 52,
     "metadata": {},
     "output_type": "execute_result"
    }
   ],
   "source": [
    "# test_image = image.load_img('/kaggle/input/cotton-disease-dataset/Cotton Disease/test/fresh cotton leaf/d (133)_iaip.jpg', target_size = (128, 128))\n",
    "# test_image\n",
    "\n",
    "pred = [\"diseased cotton leaf\",\"diseased cotton plant\",\"fresh cotton leaf\",\"fresh cotton plant\"]\n",
    "test_image = image.load_img(r\"C:\\Users\\Natha\\OneDrive\\Desktop\\Senior Project\\Cotton Disease\\test\\fresh cotton leaf\\d (76)_iaip - Copy.jpg\", target_size = (128, 128))\n",
    "test_image = image.img_to_array(test_image)\n",
    "test_image=test_image/255\n",
    "test_image = np.expand_dims(test_image, axis = 0)\n",
    "result = model.predict(test_image)\n",
    "pred[result.argmax()]"
   ]
  },
  {
   "cell_type": "code",
   "execution_count": 53,
   "metadata": {},
   "outputs": [
    {
     "name": "stdout",
     "output_type": "stream",
     "text": [
      "1/1 [==============================] - 0s 37ms/step\n"
     ]
    },
    {
     "data": {
      "text/plain": [
       "'diseased cotton plant'"
      ]
     },
     "execution_count": 53,
     "metadata": {},
     "output_type": "execute_result"
    }
   ],
   "source": [
    "# test_image = image.load_img('/kaggle/input/cotton-disease-dataset/Cotton Disease/test/diseased cotton plant/dd (885)_iaip.jpg', target_size = (128,128))\n",
    "# test_image\n",
    "\n",
    "pred = [\"diseased cotton leaf\",\"diseased cotton plant\",\"fresh cotton leaf\",\"fresh cotton plant\"]\n",
    "test_image = image.load_img(r\"C:\\Users\\Natha\\OneDrive\\Desktop\\Senior Project\\Cotton Disease\\test\\diseased cotton plant\\dd (29)_iaip.jpg\", target_size = (128,128))\n",
    "test_image = image.img_to_array(test_image)\n",
    "test_image=test_image/255\n",
    "test_image = np.expand_dims(test_image, axis = 0)\n",
    "result = model.predict(test_image)\n",
    "pred[result.argmax()]"
   ]
  },
  {
   "cell_type": "code",
   "execution_count": 54,
   "metadata": {},
   "outputs": [
    {
     "name": "stdout",
     "output_type": "stream",
     "text": [
      "1/1 [==============================] - 0s 32ms/step\n"
     ]
    },
    {
     "data": {
      "text/plain": [
       "'diseased cotton leaf'"
      ]
     },
     "execution_count": 54,
     "metadata": {},
     "output_type": "execute_result"
    }
   ],
   "source": [
    "# test_image = image.load_img('/kaggle/input/cotton-disease-dataset/Cotton Disease/test/diseased cotton leaf/dis_leaf (153)_iaip.jpg', target_size = (128, 128))\n",
    "# test_image\n",
    "\n",
    "pred = [\"diseased cotton leaf\",\"diseased cotton plant\",\"fresh cotton leaf\",\"fresh cotton plant\"]\n",
    "test_image = image.load_img(r\"C:\\Users\\Natha\\OneDrive\\Desktop\\Senior Project\\Cotton Disease\\test\\diseased cotton leaf\\dis_leaf (124).jpg\", target_size = (128, 128))\n",
    "test_image = image.img_to_array(test_image)\n",
    "test_image=test_image/255\n",
    "test_image = np.expand_dims(test_image, axis = 0)\n",
    "result = model.predict(test_image)\n",
    "pred[result.argmax()]"
   ]
  },
  {
   "attachments": {},
   "cell_type": "markdown",
   "metadata": {},
   "source": [
    "## 5. Save Prediction Results "
   ]
  },
  {
   "cell_type": "code",
   "execution_count": 55,
   "metadata": {},
   "outputs": [
    {
     "name": "stdout",
     "output_type": "stream",
     "text": [
      "4/4 [==============================] - 2s 493ms/step\n"
     ]
    }
   ],
   "source": [
    "test_df.reset()                             # note this reset function. we may need to export to JSON before this function\n",
    "pred=model.predict(test_df,verbose=1)"
   ]
  },
  {
   "cell_type": "code",
   "execution_count": 56,
   "metadata": {},
   "outputs": [],
   "source": [
    "predicted_class_indices=np.argmax(pred,axis=1)"
   ]
  },
  {
   "cell_type": "code",
   "execution_count": 57,
   "metadata": {},
   "outputs": [],
   "source": [
    "labels = (train_df.class_indices)\n",
    "labels = dict((v,k) for k,v in labels.items())\n",
    "predictions = [labels[k] for k in predicted_class_indices]"
   ]
  },
  {
   "cell_type": "code",
   "execution_count": 63,
   "metadata": {},
   "outputs": [],
   "source": [
    "filenames=test_df.filenames\n",
    "results=pd.DataFrame({\"Filename\":filenames,\n",
    "                      \"                             Predictions\":predictions})\n",
    "results.to_csv(\"results.csv\",index=False)"
   ]
  },
  {
   "attachments": {},
   "cell_type": "markdown",
   "metadata": {},
   "source": [
    "## 6. Save HyperParameters\n",
    "### Saving and loading model architecture using JSON file\n"
   ]
  },
  {
   "cell_type": "code",
   "execution_count": null,
   "metadata": {},
   "outputs": [],
   "source": []
  }
 ],
 "metadata": {
  "kernelspec": {
   "display_name": "Python 3 (ipykernel)",
   "language": "python",
   "name": "python3"
  },
  "language_info": {
   "codemirror_mode": {
    "name": "ipython",
    "version": 3
   },
   "file_extension": ".py",
   "mimetype": "text/x-python",
   "name": "python",
   "nbconvert_exporter": "python",
   "pygments_lexer": "ipython3",
   "version": "3.9.13"
  },
  "vscode": {
   "interpreter": {
    "hash": "50daf6d4351b19dfa577b1e3d5cf487ac3aff3707ef074d1654ac74ed592f969"
   }
  }
 },
 "nbformat": 4,
 "nbformat_minor": 2
}
