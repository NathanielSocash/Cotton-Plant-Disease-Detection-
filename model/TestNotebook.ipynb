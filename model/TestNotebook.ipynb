{
 "cells": [
  {
   "cell_type": "markdown",
   "metadata": {},
   "source": [
    "# Cotton Plant Disease Detection\n",
    "\n",
    "**Cotton Plant Disease Detection using a Convolutional Neural Network (CNN)**\n",
    "\n",
    "  This project seeks to build a machine-learning model using a Convolutional Neural Network (CNN) and image processing to diagnose cotton plants with specific diseases, paired with a comparative analysis of different image processing algorithms. We aim to build a functional model and port this model to a working android mobile app for the benefit of farmers and researchers.\n",
    "\n",
    "\n",
    "** **\n"
   ]
  },
  {
   "cell_type": "markdown",
   "metadata": {},
   "source": [
    "## 1. Importing libraries & preprocessing"
   ]
  },
  {
   "cell_type": "code",
   "execution_count": 20,
   "metadata": {},
   "outputs": [
    {
     "name": "stdout",
     "output_type": "stream",
     "text": [
      "Output\n",
      "1.21.3\n",
      "2.11.0\n"
     ]
    }
   ],
   "source": [
    "# Computational libraries\n",
    "import numpy as np          #linear algebra\n",
    "import pandas as pd         # data processing\n",
    "import os\n",
    "#import utilities           I don't think this will be usefull \n",
    "\n",
    "# Keras Optimizers\n",
    "#import wandb\n",
    "#from wandb.keras import WandbMetricsLogger\n",
    "\n",
    "# Imporitng Data Visualization Libraries\n",
    "import matplotlib.pyplot as plt\n",
    "%matplotlib inline\n",
    "plt.rcParams[\"figure.figsize\"] = [10, 5]\n",
    "\n",
    "#Import miscellaneous libraries\n",
    "pd.set_option(\"display.max_columns\",None)\n",
    "pd.set_option(\"display.max_rows\",None)\n",
    "pd.set_option('display.width', None)\n",
    "\n",
    "#Importing Warning Libraries\n",
    "import warnings\n",
    "warnings.filterwarnings(\"ignore\")\n",
    "\n",
    "# Importing Data Preparation and Modeling Libraries\n",
    "from sklearn.model_selection import train_test_split\n",
    "import sklearn.metrics as metrics\n",
    "from sklearn.metrics import *\n",
    "\n",
    "# Convolutional Neural Network\n",
    "\n",
    "# Import Sequential\n",
    "from keras.models import Sequential\n",
    "\n",
    "# Importing the tensorflow  libraries\n",
    "import tensorflow as tf\n",
    "from tensorflow.keras.preprocessing.image import ImageDataGenerator\n",
    "from tensorflow.keras import *\n",
    "from tensorflow.keras.layers import (\n",
    "    Conv2D,\n",
    "    Dense,\n",
    "    Dropout,\n",
    "    Flatten,\n",
    "    MaxPool2D\n",
    ")\n",
    "from tensorflow.keras.preprocessing import image\n",
    "\n",
    "# F1 Score\n",
    "from sklearn.metrics import f1_score\n",
    "\n",
    "# determine library versions\n",
    "print(\"Output\")\n",
    "print(np.__version__)\n",
    "print(tf.__version__)"
   ]
  },
  {
   "cell_type": "code",
   "execution_count": 21,
   "metadata": {},
   "outputs": [
    {
     "name": "stdout",
     "output_type": "stream",
     "text": [
      "Found 1951 images belonging to 4 classes.\n"
     ]
    }
   ],
   "source": [
    "# Part 1 - Data Preprocessing\n",
    "\n",
    "# Preprocessing the Training set\n",
    "#/kaggle/input/cotton-disease-dataset/Cotton Disease/train      Original Path\n",
    "\n",
    "train_datagen = ImageDataGenerator(rescale = 1.0/255, shear_range = 0.2, zoom_range = 0.2,\n",
    "                                  horizontal_flip = True,vertical_flip = True,\n",
    "                                  rotation_range=20,width_shift_range=0.2,\n",
    "                                height_shift_range=0.2)\n",
    "\n",
    "train_df = train_datagen.flow_from_directory(r'C:\\Users\\Natha\\OneDrive\\Desktop\\Senior Project\\Cotton Disease\\train',\n",
    "                                            target_size = (128,128), batch_size = 32, class_mode= 'categorical',\n",
    "                                            seed=42,shuffle=True)"
   ]
  },
  {
   "cell_type": "code",
   "execution_count": 22,
   "metadata": {},
   "outputs": [
    {
     "name": "stdout",
     "output_type": "stream",
     "text": [
      "Found 253 images belonging to 4 classes.\n"
     ]
    }
   ],
   "source": [
    "# Preprocessing the validation set\n",
    "valid_datagen = ImageDataGenerator(rescale = 1.0/255)\n",
    "\n",
    "valid_df = valid_datagen.flow_from_directory(r'C:\\Users\\Natha\\OneDrive\\Desktop\\Senior Project\\Cotton Disease\\val',\n",
    "                                            target_size = (128, 128), batch_size = 32,\n",
    "                                            class_mode = 'categorical',seed=42,shuffle=True)"
   ]
  },
  {
   "cell_type": "code",
   "execution_count": 23,
   "metadata": {},
   "outputs": [
    {
     "name": "stdout",
     "output_type": "stream",
     "text": [
      "Found 106 images belonging to 4 classes.\n"
     ]
    }
   ],
   "source": [
    "# Preprocessing the Test set\n",
    "test_datagen = ImageDataGenerator(rescale = 1.0/255)\n",
    "\n",
    "test_df = test_datagen.flow_from_directory(r'C:\\Users\\Natha\\OneDrive\\Desktop\\Senior Project\\Cotton Disease\\test',\n",
    "                                            target_size = (128,128), batch_size = 32,\n",
    "                                            class_mode = 'categorical',seed=42,shuffle=False)"
   ]
  },
  {
   "cell_type": "markdown",
   "metadata": {},
   "source": [
    "## 2. Building Convolutional Neural Network (CNN)"
   ]
  },
  {
   "cell_type": "code",
   "execution_count": 24,
   "metadata": {},
   "outputs": [],
   "source": [
    "# Part 2 -  Building the CNN\n",
    "\n",
    "# Initialising the CNN\n",
    "model = Sequential()          # replace 'cnn' variable name with 'model'\n",
    "\n",
    "# Step 1 - Convolution\n",
    "model.add(Conv2D(filters = 32, padding = 'same', kernel_size=3, activation ='relu',\n",
    "                              input_shape=[128, 128, 3]))\n",
    "\n",
    "# Step 2 - Pooling\n",
    "model.add(MaxPool2D(pool_size=2, strides=2))\n",
    "\n",
    "model.add(Dropout(rate=0.25))\n",
    "\n",
    "# Adding a second convolutional layer\n",
    "model.add(Conv2D(filters = 32, padding='same', kernel_size=3, activation ='relu')) \n",
    "model.add(Conv2D(filters = 64, padding='same', kernel_size=3, activation ='relu'))\n",
    "model.add(MaxPool2D(pool_size=2, strides=2))\n",
    "\n",
    "model.add(Dropout(rate=0.25))\n",
    "\n",
    "# Step 3 - Flattening\n",
    "model.add(Flatten())\n",
    "\n",
    "# Step 4 - Full Connection\n",
    "model.add(Dense(units=128, activation ='relu'))\n",
    "model.add(Dense(units=128, activation ='relu'))\n",
    "\n",
    "model.add(Dropout(rate=0.25))                                                           # 25% dropout rate\n",
    "\n",
    "# Step 5 - Output layer\n",
    "model.add(Dense(units=4, activation='softmax'))"
   ]
  },
  {
   "cell_type": "code",
   "execution_count": 25,
   "metadata": {},
   "outputs": [
    {
     "name": "stdout",
     "output_type": "stream",
     "text": [
      "Model: \"sequential_1\"\n",
      "_________________________________________________________________\n",
      " Layer (type)                Output Shape              Param #   \n",
      "=================================================================\n",
      " conv2d_3 (Conv2D)           (None, 128, 128, 32)      896       \n",
      "                                                                 \n",
      " max_pooling2d_2 (MaxPooling  (None, 64, 64, 32)       0         \n",
      " 2D)                                                             \n",
      "                                                                 \n",
      " dropout_3 (Dropout)         (None, 64, 64, 32)        0         \n",
      "                                                                 \n",
      " conv2d_4 (Conv2D)           (None, 64, 64, 32)        9248      \n",
      "                                                                 \n",
      " conv2d_5 (Conv2D)           (None, 64, 64, 64)        18496     \n",
      "                                                                 \n",
      " max_pooling2d_3 (MaxPooling  (None, 32, 32, 64)       0         \n",
      " 2D)                                                             \n",
      "                                                                 \n",
      " dropout_4 (Dropout)         (None, 32, 32, 64)        0         \n",
      "                                                                 \n",
      " flatten_1 (Flatten)         (None, 65536)             0         \n",
      "                                                                 \n",
      " dense_3 (Dense)             (None, 128)               8388736   \n",
      "                                                                 \n",
      " dense_4 (Dense)             (None, 128)               16512     \n",
      "                                                                 \n",
      " dropout_5 (Dropout)         (None, 128)               0         \n",
      "                                                                 \n",
      " dense_5 (Dense)             (None, 4)                 516       \n",
      "                                                                 \n",
      "=================================================================\n",
      "Total params: 8,434,404\n",
      "Trainable params: 8,434,404\n",
      "Non-trainable params: 0\n",
      "_________________________________________________________________\n"
     ]
    }
   ],
   "source": [
    "model.summary()"
   ]
  },
  {
   "cell_type": "markdown",
   "metadata": {},
   "source": [
    "## 3. Training the CNN"
   ]
  },
  {
   "cell_type": "code",
   "execution_count": 26,
   "metadata": {},
   "outputs": [],
   "source": [
    "# Part 3 - Training the CNN\n",
    "\n",
    "# Compiling the CNN\n",
    "model.compile(optimizer = 'adam',loss = 'categorical_crossentropy', metrics = ['accuracy'])"
   ]
  },
  {
   "cell_type": "code",
   "execution_count": 27,
   "metadata": {},
   "outputs": [
    {
     "name": "stdout",
     "output_type": "stream",
     "text": [
      "Epoch 1/25\n",
      "61/61 [==============================] - 48s 754ms/step - loss: 1.3770 - accuracy: 0.3952 - val_loss: 1.2031 - val_accuracy: 0.3755\n",
      "Epoch 2/25\n",
      "61/61 [==============================] - 42s 683ms/step - loss: 1.1623 - accuracy: 0.4762 - val_loss: 1.1453 - val_accuracy: 0.4625\n",
      "Epoch 3/25\n",
      "61/61 [==============================] - 41s 665ms/step - loss: 1.0936 - accuracy: 0.5172 - val_loss: 1.1430 - val_accuracy: 0.3953\n",
      "Epoch 4/25\n",
      "61/61 [==============================] - 44s 727ms/step - loss: 1.0511 - accuracy: 0.5392 - val_loss: 0.9119 - val_accuracy: 0.5771\n",
      "Epoch 5/25\n",
      "61/61 [==============================] - 47s 775ms/step - loss: 0.9058 - accuracy: 0.6197 - val_loss: 0.7798 - val_accuracy: 0.6917\n",
      "Epoch 6/25\n",
      "61/61 [==============================] - 44s 725ms/step - loss: 0.7930 - accuracy: 0.6735 - val_loss: 0.7665 - val_accuracy: 0.6838\n",
      "Epoch 7/25\n",
      "61/61 [==============================] - 44s 721ms/step - loss: 0.7646 - accuracy: 0.6955 - val_loss: 0.7324 - val_accuracy: 0.6917\n",
      "Epoch 8/25\n",
      "61/61 [==============================] - 43s 705ms/step - loss: 0.7197 - accuracy: 0.7109 - val_loss: 0.6384 - val_accuracy: 0.7470\n",
      "Epoch 9/25\n",
      "61/61 [==============================] - 43s 710ms/step - loss: 0.6939 - accuracy: 0.7258 - val_loss: 0.5230 - val_accuracy: 0.7826\n",
      "Epoch 10/25\n",
      "61/61 [==============================] - 44s 719ms/step - loss: 0.5969 - accuracy: 0.7678 - val_loss: 0.8003 - val_accuracy: 0.6917\n",
      "Epoch 11/25\n",
      "61/61 [==============================] - 44s 722ms/step - loss: 0.5596 - accuracy: 0.7914 - val_loss: 0.3841 - val_accuracy: 0.8814\n",
      "Epoch 12/25\n",
      "61/61 [==============================] - 49s 798ms/step - loss: 0.5573 - accuracy: 0.7811 - val_loss: 0.4714 - val_accuracy: 0.8261\n",
      "Epoch 13/25\n",
      "61/61 [==============================] - 47s 773ms/step - loss: 0.5034 - accuracy: 0.8088 - val_loss: 0.4196 - val_accuracy: 0.8300\n",
      "Epoch 14/25\n",
      "61/61 [==============================] - 43s 695ms/step - loss: 0.4485 - accuracy: 0.8170 - val_loss: 0.3239 - val_accuracy: 0.8696\n",
      "Epoch 15/25\n",
      "61/61 [==============================] - 43s 700ms/step - loss: 0.4107 - accuracy: 0.8483 - val_loss: 0.3460 - val_accuracy: 0.8814\n",
      "Epoch 16/25\n",
      "61/61 [==============================] - 43s 703ms/step - loss: 0.3869 - accuracy: 0.8529 - val_loss: 0.3613 - val_accuracy: 0.8933\n",
      "Epoch 17/25\n",
      "61/61 [==============================] - 43s 697ms/step - loss: 0.3967 - accuracy: 0.8452 - val_loss: 0.3265 - val_accuracy: 0.8617\n",
      "Epoch 18/25\n",
      "61/61 [==============================] - 43s 705ms/step - loss: 0.3788 - accuracy: 0.8652 - val_loss: 0.1921 - val_accuracy: 0.9447\n",
      "Epoch 19/25\n",
      "61/61 [==============================] - 43s 698ms/step - loss: 0.3311 - accuracy: 0.8821 - val_loss: 0.3307 - val_accuracy: 0.8893\n",
      "Epoch 20/25\n",
      "61/61 [==============================] - 42s 689ms/step - loss: 0.3227 - accuracy: 0.8729 - val_loss: 0.1535 - val_accuracy: 0.9447\n",
      "Epoch 21/25\n",
      "61/61 [==============================] - 41s 674ms/step - loss: 0.3515 - accuracy: 0.8611 - val_loss: 0.2095 - val_accuracy: 0.9170\n",
      "Epoch 22/25\n",
      "61/61 [==============================] - 41s 666ms/step - loss: 0.3177 - accuracy: 0.8842 - val_loss: 0.1695 - val_accuracy: 0.9486\n",
      "Epoch 23/25\n",
      "61/61 [==============================] - 41s 667ms/step - loss: 0.3150 - accuracy: 0.8898 - val_loss: 0.2467 - val_accuracy: 0.9051\n",
      "Epoch 24/25\n",
      "61/61 [==============================] - 41s 672ms/step - loss: 0.3596 - accuracy: 0.8688 - val_loss: 0.1948 - val_accuracy: 0.9447\n",
      "Epoch 25/25\n",
      "61/61 [==============================] - 42s 692ms/step - loss: 0.3308 - accuracy: 0.8760 - val_loss: 0.1628 - val_accuracy: 0.9605\n"
     ]
    }
   ],
   "source": [
    "# Training the CNN on the Training set & evaluating it on the validation set\n",
    "# model.fit(x = train_df, validation_data = valid_df, epochs = 10)\n",
    "history = model.fit(train_df, validation_data = valid_df, epochs = 25)"
   ]
  },
  {
   "cell_type": "code",
   "execution_count": 28,
   "metadata": {},
   "outputs": [
    {
     "data": {
      "image/png": "[encoded data removed]",
      "text/plain": [
       "<Figure size 1000x500 with 1 Axes>"
      ]
     },
     "metadata": {},
     "output_type": "display_data"
    }
   ],
   "source": [
    "#sumarize history for model accuracy \n",
    "#x = [0.0, 2.0, 4.0, 6.0, 8.0, 10.0, 12.0, 14.0, 16.0, 18.0]\n",
    "plt.plot(history.history['accuracy'])\n",
    "plt.plot(history.history['val_accuracy'])\n",
    "plt.title('model accuracy')\n",
    "plt.ylabel('accuracy')\n",
    "plt.xlabel('epoch')\n",
    "#plt.xticks(x)\n",
    "plt.legend(['train', 'validation'], loc='upper left')\n",
    "#plt.show()\n",
    "plt.savefig('model_accuracy.png', dpi= 200, bbox_inches='tight')\n"
   ]
  },
  {
   "cell_type": "code",
   "execution_count": 29,
   "metadata": {},
   "outputs": [
    {
     "data": {
      "image/png": "[encoded data removed]",
      "text/plain": [
       "<Figure size 1000x500 with 1 Axes>"
      ]
     },
     "metadata": {},
     "output_type": "display_data"
    }
   ],
   "source": [
    "# summarize history for loss\n",
    "plt.plot(history.history['loss'])\n",
    "plt.plot(history.history['val_loss'])\n",
    "plt.title('model loss')\n",
    "plt.ylabel('loss')\n",
    "plt.xlabel('epoch')\n",
    "plt.legend(['train', 'validation'], loc='upper left')\n",
    "#plt.show()\n",
    "plt.savefig('model_loss.png', dpi= 200, bbox_inches='tight')"
   ]
  },
  {
   "cell_type": "markdown",
   "metadata": {},
   "source": [
    "## 4. Making predictions"
   ]
  },
  {
   "cell_type": "code",
   "execution_count": 30,
   "metadata": {},
   "outputs": [
    {
     "name": "stdout",
     "output_type": "stream",
     "text": [
      "8/8 [==============================] - 1s 177ms/step - loss: 0.1628 - accuracy: 0.9605\n"
     ]
    },
    {
     "data": {
      "text/plain": [
       "[0.1628076583147049, 0.9604743123054504]"
      ]
     },
     "execution_count": 30,
     "metadata": {},
     "output_type": "execute_result"
    }
   ],
   "source": [
    "model.evaluate(valid_df)"
   ]
  },
  {
   "cell_type": "code",
   "execution_count": 31,
   "metadata": {},
   "outputs": [
    {
     "name": "stdout",
     "output_type": "stream",
     "text": [
      "1/1 [==============================] - 0s 160ms/step\n"
     ]
    },
    {
     "data": {
      "text/plain": [
       "'fresh cotton plant'"
      ]
     },
     "execution_count": 31,
     "metadata": {},
     "output_type": "execute_result"
    }
   ],
   "source": [
    "# test_image = image.load_img('/kaggle/input/cotton-disease-dataset/Cotton Disease/test/fresh cotton plant/dsd (223).jpg', target_size = (128, 128))\n",
    "# test_image\n",
    "\n",
    "\n",
    "pred = [\"diseased cotton leaf\",\"diseased cotton plant\",\"fresh cotton leaf\",\"fresh cotton plant\"]\n",
    "test_image = image.load_img(r\"C:\\Users\\Natha\\OneDrive\\Desktop\\Senior Project\\Cotton Disease\\test\\fresh cotton plant\\dsd (264)_iaip.jpg\", target_size = (128, 128))\n",
    "test_image = image.img_to_array(test_image)\n",
    "test_image=test_image/255\n",
    "test_image = np.expand_dims(test_image, axis = 0)\n",
    "result = model.predict(test_image)\n",
    "pred[result.argmax()]"
   ]
  },
  {
   "cell_type": "code",
   "execution_count": 32,
   "metadata": {},
   "outputs": [
    {
     "name": "stdout",
     "output_type": "stream",
     "text": [
      "1/1 [==============================] - 0s 41ms/step\n"
     ]
    },
    {
     "data": {
      "text/plain": [
       "'fresh cotton leaf'"
      ]
     },
     "execution_count": 32,
     "metadata": {},
     "output_type": "execute_result"
    }
   ],
   "source": [
    "# test_image = image.load_img('/kaggle/input/cotton-disease-dataset/Cotton Disease/test/fresh cotton leaf/d (133)_iaip.jpg', target_size = (128, 128))\n",
    "# test_image\n",
    "\n",
    "pred = [\"diseased cotton leaf\",\"diseased cotton plant\",\"fresh cotton leaf\",\"fresh cotton plant\"]\n",
    "test_image = image.load_img(r\"C:\\Users\\Natha\\OneDrive\\Desktop\\Senior Project\\Cotton Disease\\test\\fresh cotton leaf\\d (76)_iaip - Copy.jpg\", target_size = (128, 128))\n",
    "test_image = image.img_to_array(test_image)\n",
    "test_image=test_image/255\n",
    "test_image = np.expand_dims(test_image, axis = 0)\n",
    "result = model.predict(test_image)\n",
    "pred[result.argmax()]"
   ]
  },
  {
   "cell_type": "code",
   "execution_count": 33,
   "metadata": {},
   "outputs": [
    {
     "name": "stdout",
     "output_type": "stream",
     "text": [
      "1/1 [==============================] - 0s 42ms/step\n"
     ]
    },
    {
     "data": {
      "text/plain": [
       "'diseased cotton plant'"
      ]
     },
     "execution_count": 33,
     "metadata": {},
     "output_type": "execute_result"
    }
   ],
   "source": [
    "# test_image = image.load_img('/kaggle/input/cotton-disease-dataset/Cotton Disease/test/diseased cotton plant/dd (885)_iaip.jpg', target_size = (128,128))\n",
    "# test_image\n",
    "\n",
    "pred = [\"diseased cotton leaf\",\"diseased cotton plant\",\"fresh cotton leaf\",\"fresh cotton plant\"]\n",
    "test_image = image.load_img(r\"C:\\Users\\Natha\\OneDrive\\Desktop\\Senior Project\\Cotton Disease\\test\\diseased cotton plant\\dd (29)_iaip.jpg\", target_size = (128,128))\n",
    "test_image = image.img_to_array(test_image)\n",
    "test_image=test_image/255\n",
    "test_image = np.expand_dims(test_image, axis = 0)\n",
    "result = model.predict(test_image)\n",
    "pred[result.argmax()]"
   ]
  },
  {
   "cell_type": "code",
   "execution_count": 34,
   "metadata": {},
   "outputs": [
    {
     "name": "stdout",
     "output_type": "stream",
     "text": [
      "1/1 [==============================] - 0s 36ms/step\n"
     ]
    },
    {
     "data": {
      "text/plain": [
       "'diseased cotton leaf'"
      ]
     },
     "execution_count": 34,
     "metadata": {},
     "output_type": "execute_result"
    }
   ],
   "source": [
    "# test_image = image.load_img('/kaggle/input/cotton-disease-dataset/Cotton Disease/test/diseased cotton leaf/dis_leaf (153)_iaip.jpg', target_size = (128, 128))\n",
    "# test_image\n",
    "\n",
    "pred = [\"diseased cotton leaf\",\"diseased cotton plant\",\"fresh cotton leaf\",\"fresh cotton plant\"]\n",
    "test_image = image.load_img(r\"C:\\Users\\Natha\\OneDrive\\Desktop\\Senior Project\\Cotton Disease\\test\\diseased cotton leaf\\dis_leaf (124).jpg\", target_size = (128, 128))\n",
    "test_image = image.img_to_array(test_image)\n",
    "test_image=test_image/255\n",
    "test_image = np.expand_dims(test_image, axis = 0)\n",
    "result = model.predict(test_image)\n",
    "pred[result.argmax()]"
   ]
  },
  {
   "attachments": {},
   "cell_type": "markdown",
   "metadata": {},
   "source": [
    "## 5. Save Prediction Results "
   ]
  },
  {
   "cell_type": "code",
   "execution_count": 35,
   "metadata": {},
   "outputs": [
    {
     "name": "stdout",
     "output_type": "stream",
     "text": [
      "4/4 [==============================] - 2s 562ms/step\n"
     ]
    }
   ],
   "source": [
    "test_df.reset()                             # note this reset function. we may need to export to JSON before this function\n",
    "pred=model.predict(test_df,verbose=1)"
   ]
  },
  {
   "cell_type": "code",
   "execution_count": 36,
   "metadata": {},
   "outputs": [],
   "source": [
    "predicted_class_indices=np.argmax(pred,axis=1)"
   ]
  },
  {
   "cell_type": "code",
   "execution_count": 37,
   "metadata": {},
   "outputs": [],
   "source": [
    "labels = (train_df.class_indices)\n",
    "labels = dict((v,k) for k,v in labels.items())\n",
    "predictions = [labels[k] for k in predicted_class_indices]"
   ]
  },
  {
   "cell_type": "code",
   "execution_count": 38,
   "metadata": {},
   "outputs": [],
   "source": [
    "filenames=test_df.filenames\n",
    "results=pd.DataFrame({\"Filename\":filenames,\n",
    "                      \"                             Predictions\":predictions})\n",
    "results.to_csv(\"results.csv\",index=False)"
   ]
  },
  {
   "attachments": {},
   "cell_type": "markdown",
   "metadata": {},
   "source": [
    "## 6. Save HyperParameters\n",
    "### Saving and loading model architecture using JSON file\n"
   ]
  },
  {
   "cell_type": "code",
   "execution_count": null,
   "metadata": {},
   "outputs": [],
   "source": []
  }
 ],
 "metadata": {
  "kernelspec": {
   "display_name": "Python 3 (ipykernel)",
   "language": "python",
   "name": "python3"
  },
  "language_info": {
   "codemirror_mode": {
    "name": "ipython",
    "version": 3
   },
   "file_extension": ".py",
   "mimetype": "text/x-python",
   "name": "python",
   "nbconvert_exporter": "python",
   "pygments_lexer": "ipython3",
   "version": "3.9.13"
  },
  "vscode": {
   "interpreter": {
    "hash": "50daf6d4351b19dfa577b1e3d5cf487ac3aff3707ef074d1654ac74ed592f969"
   }
  }
 },
 "nbformat": 4,
 "nbformat_minor": 2
}
