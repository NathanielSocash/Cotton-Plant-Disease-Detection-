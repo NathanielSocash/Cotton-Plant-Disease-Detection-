{
 "cells": [
  {
   "cell_type": "markdown",
   "metadata": {},
   "source": [
    "# Cotton Plant Disease Detection\n",
    "\n",
    "**Cotton Plant Disease Detection using a Convolutional Neural Network (CNN)**\n",
    "\n",
    "  This project seeks to build a machine-learning model using a Convolutional Neural Network (CNN) and image processing to diagnose cotton plants with specific diseases, paired with a comparative analysis of different image processing algorithms. We aim to build a functional model and port this model to a working android mobile app for the benefit of farmers and researchers.\n",
    "\n",
    "\n",
    "** **\n"
   ]
  },
  {
   "cell_type": "code",
   "execution_count": null,
   "metadata": {},
   "outputs": [],
   "source": [
    "#testing Karaken\n",
    "#testing gitKraken March 13 2023"
   ]
  },
  {
   "cell_type": "code",
   "execution_count": 55,
   "metadata": {},
   "outputs": [],
   "source": [
    "# # This Python 3 environment comes with many helpful analytics libraries installed\n",
    "# # It is defined by the kaggle/python Docker image: https://github.com/kaggle/docker-python\n",
    "# # For example, here's several helpful packages to load\n",
    "\n",
    "# import numpy as np # linear algebra\n",
    "# import pandas as pd # data processing, CSV file I/O (e.g. pd.read_csv)\n",
    "\n",
    "# # Input data files are available in the read-only \"../input/\" directory\n",
    "# # For example, running this (by clicking run or pressing Shift+Enter) will list all files under the input directory\n",
    "\n",
    "# import os\n",
    "# for dirname, _, filenames in os.walk('/kaggle/input'):\n",
    "#     for filename in filenames:\n",
    "#         print(os.path.join(dirname, filename))\n",
    "\n",
    "# # You can write up to 20GB to the current directory (/kaggle/working/) that gets preserved as output when you create a version using \"Save & Run All\" \n",
    "# # You can also write temporary files to /kaggle/temp/, but they won't be saved outside of the current session"
   ]
  },
  {
   "cell_type": "markdown",
   "metadata": {},
   "source": [
    "## 1. Importing libraries & preprocessing"
   ]
  },
  {
   "cell_type": "code",
   "execution_count": 1,
   "metadata": {},
   "outputs": [
    {
     "name": "stdout",
     "output_type": "stream",
     "text": [
      "Output\n",
      "1.21.5\n",
      "2.11.0\n"
     ]
    }
   ],
   "source": [
    "# Computational libraries\n",
    "import numpy as np          #linear algebra\n",
    "import pandas as pd         # data processing\n",
    "import os\n",
    "#import utilities \n",
    "\n",
    "# Imporitng Data Visualization Libraries\n",
    "import matplotlib.pyplot as plt\n",
    "%matplotlib inline\n",
    "plt.rcParams[\"figure.figsize\"] = [10, 5]\n",
    "\n",
    "#import miscellaneous libraries\n",
    "pd.set_option(\"display.max_columns\",None)\n",
    "pd.set_option(\"display.max_rows\",None)\n",
    "pd.set_option('display.width', None)\n",
    "\n",
    "#Importing Warning Libraries\n",
    "import warnings\n",
    "warnings.filterwarnings(\"ignore\")\n",
    "\n",
    "# Importing Data Preparation and Modeling Libraries\n",
    "from sklearn.model_selection import train_test_split\n",
    "import sklearn.metrics as metrics\n",
    "from sklearn.metrics import *\n",
    "\n",
    "# Convolutional Neural Network\n",
    "\n",
    "# Importing the tensorflow  libraries\n",
    "import tensorflow as tf\n",
    "from tensorflow.keras.preprocessing.image import ImageDataGenerator\n",
    "from tensorflow.keras import *\n",
    "from tensorflow.keras.layers import (\n",
    "    Conv2D,\n",
    "    Dense,\n",
    "    Dropout,\n",
    "    Flatten,\n",
    "    MaxPool2D\n",
    ")\n",
    "from tensorflow.keras.preprocessing import image\n",
    "\n",
    "# determine library versions\n",
    "print(\"Output\")\n",
    "print(np.__version__)\n",
    "print(tf.__version__)"
   ]
  },
  {
   "cell_type": "code",
   "execution_count": 24,
   "metadata": {},
   "outputs": [
    {
     "name": "stdout",
     "output_type": "stream",
     "text": [
      "Found 1951 images belonging to 4 classes.\n"
     ]
    }
   ],
   "source": [
    "# Part 1 - Data Preprocessing\n",
    "\n",
    "# Preprocessing the Training set\n",
    "#/kaggle/input/cotton-disease-dataset/Cotton Disease/train      Original Path\n",
    "\n",
    "train_datagen = ImageDataGenerator(rescale = 1.0/255, shear_range = 0.2, zoom_range = 0.2,\n",
    "                                  horizontal_flip = True,vertical_flip = True,\n",
    "                                  rotation_range=20,width_shift_range=0.2,\n",
    "                                height_shift_range=0.2)\n",
    "\n",
    "train_df = train_datagen.flow_from_directory(r'C:\\Users\\Natha\\OneDrive\\Desktop\\Senior Project\\Cotton Disease\\train',\n",
    "                                            target_size = (128,128), batch_size = 32, class_mode= 'categorical',\n",
    "                                            seed=42,shuffle=True)"
   ]
  },
  {
   "cell_type": "code",
   "execution_count": 25,
   "metadata": {},
   "outputs": [
    {
     "name": "stdout",
     "output_type": "stream",
     "text": [
      "Found 253 images belonging to 4 classes.\n"
     ]
    }
   ],
   "source": [
    "# Preprocessing the validation set\n",
    "valid_datagen = ImageDataGenerator(rescale = 1.0/255)\n",
    "\n",
    "valid_df = valid_datagen.flow_from_directory(r'C:\\Users\\Natha\\OneDrive\\Desktop\\Senior Project\\Cotton Disease\\val',\n",
    "                                            target_size = (128, 128), batch_size = 32,\n",
    "                                            class_mode = 'categorical',seed=42,shuffle=True)"
   ]
  },
  {
   "cell_type": "code",
   "execution_count": 26,
   "metadata": {},
   "outputs": [
    {
     "name": "stdout",
     "output_type": "stream",
     "text": [
      "Found 106 images belonging to 4 classes.\n"
     ]
    }
   ],
   "source": [
    "# Preprocessing the Test set\n",
    "test_datagen = ImageDataGenerator(rescale = 1.0/255)\n",
    "\n",
    "test_df = test_datagen.flow_from_directory(r'C:\\Users\\Natha\\OneDrive\\Desktop\\Senior Project\\Cotton Disease\\test',\n",
    "                                            target_size = (128,128), batch_size = 32,\n",
    "                                            class_mode = 'categorical',seed=42,shuffle=False)"
   ]
  },
  {
   "cell_type": "markdown",
   "metadata": {},
   "source": [
    "## 2. Building Convolutional Neural Network (CNN)"
   ]
  },
  {
   "cell_type": "code",
   "execution_count": 27,
   "metadata": {},
   "outputs": [],
   "source": [
    "# Part 2 -  Building the CNN\n",
    "\n",
    "# Initialising the CNN\n",
    "model = Sequential()          # replace 'cnn' variable name with 'model'\n",
    "\n",
    "# Step 1 - Convolution\n",
    "model.add(Conv2D(filters = 32, padding = 'same', kernel_size=3, activation='relu',\n",
    "                              input_shape=[128, 128, 3]))\n",
    "\n",
    "# Step 2 - Pooling\n",
    "model.add(MaxPool2D(pool_size=2, strides=2))\n",
    "\n",
    "model.add(Dropout(rate=0.25))\n",
    "\n",
    "# Adding a second convolutional layer\n",
    "model.add(Conv2D(filters = 32, padding='same', kernel_size=3, activation='relu'))\n",
    "model.add(Conv2D(filters = 64, padding='same', kernel_size=3, activation='relu'))\n",
    "model.add(MaxPool2D(pool_size=2, strides=2))\n",
    "\n",
    "model.add(Dropout(rate=0.25))\n",
    "\n",
    "# Step 3 - Flattening\n",
    "model.add(Flatten())\n",
    "\n",
    "# Step 4 - Full Connection\n",
    "model.add(Dense(units=128, activation='relu'))\n",
    "model.add(Dense(units=128, activation='relu'))\n",
    "\n",
    "model.add(Dropout(rate=0.25))\n",
    "\n",
    "# Step 5 - Output layer\n",
    "model.add(Dense(units=4, activation='softmax'))"
   ]
  },
  {
   "cell_type": "code",
   "execution_count": 28,
   "metadata": {},
   "outputs": [
    {
     "name": "stdout",
     "output_type": "stream",
     "text": [
      "Model: \"sequential_1\"\n",
      "_________________________________________________________________\n",
      " Layer (type)                Output Shape              Param #   \n",
      "=================================================================\n",
      " conv2d_3 (Conv2D)           (None, 128, 128, 32)      896       \n",
      "                                                                 \n",
      " max_pooling2d_2 (MaxPooling  (None, 64, 64, 32)       0         \n",
      " 2D)                                                             \n",
      "                                                                 \n",
      " dropout_3 (Dropout)         (None, 64, 64, 32)        0         \n",
      "                                                                 \n",
      " conv2d_4 (Conv2D)           (None, 64, 64, 32)        9248      \n",
      "                                                                 \n",
      " conv2d_5 (Conv2D)           (None, 64, 64, 64)        18496     \n",
      "                                                                 \n",
      " max_pooling2d_3 (MaxPooling  (None, 32, 32, 64)       0         \n",
      " 2D)                                                             \n",
      "                                                                 \n",
      " dropout_4 (Dropout)         (None, 32, 32, 64)        0         \n",
      "                                                                 \n",
      " flatten_1 (Flatten)         (None, 65536)             0         \n",
      "                                                                 \n",
      " dense_3 (Dense)             (None, 128)               8388736   \n",
      "                                                                 \n",
      " dense_4 (Dense)             (None, 128)               16512     \n",
      "                                                                 \n",
      " dropout_5 (Dropout)         (None, 128)               0         \n",
      "                                                                 \n",
      " dense_5 (Dense)             (None, 4)                 516       \n",
      "                                                                 \n",
      "=================================================================\n",
      "Total params: 8,434,404\n",
      "Trainable params: 8,434,404\n",
      "Non-trainable params: 0\n",
      "_________________________________________________________________\n"
     ]
    }
   ],
   "source": [
    "model.summary()"
   ]
  },
  {
   "cell_type": "markdown",
   "metadata": {},
   "source": [
    "## 3. Training the CNN"
   ]
  },
  {
   "cell_type": "code",
   "execution_count": 29,
   "metadata": {},
   "outputs": [],
   "source": [
    "# Part 3 - Training the CNN\n",
    "\n",
    "# Compiling the CNN\n",
    "model.compile(optimizer = 'adam',loss = 'categorical_crossentropy', metrics = ['accuracy'])"
   ]
  },
  {
   "cell_type": "code",
   "execution_count": 30,
   "metadata": {},
   "outputs": [
    {
     "name": "stdout",
     "output_type": "stream",
     "text": [
      "Epoch 1/20\n",
      "61/61 [==============================] - 46s 732ms/step - loss: 1.3012 - accuracy: 0.4147 - val_loss: 1.1809 - val_accuracy: 0.5059\n",
      "Epoch 2/20\n",
      "61/61 [==============================] - 67s 1s/step - loss: 1.1160 - accuracy: 0.5028 - val_loss: 1.0510 - val_accuracy: 0.5968\n",
      "Epoch 3/20\n",
      "61/61 [==============================] - 72s 1s/step - loss: 1.0210 - accuracy: 0.5684 - val_loss: 0.9257 - val_accuracy: 0.5810\n",
      "Epoch 4/20\n",
      "61/61 [==============================] - 67s 1s/step - loss: 0.8947 - accuracy: 0.6304 - val_loss: 0.9545 - val_accuracy: 0.6087\n",
      "Epoch 5/20\n",
      "61/61 [==============================] - 40s 648ms/step - loss: 0.8388 - accuracy: 0.6545 - val_loss: 0.7139 - val_accuracy: 0.6877\n",
      "Epoch 6/20\n",
      "61/61 [==============================] - 45s 732ms/step - loss: 0.7347 - accuracy: 0.6996 - val_loss: 0.6811 - val_accuracy: 0.7075\n",
      "Epoch 7/20\n",
      "61/61 [==============================] - 42s 685ms/step - loss: 0.7161 - accuracy: 0.7278 - val_loss: 0.5413 - val_accuracy: 0.7431\n",
      "Epoch 8/20\n",
      "61/61 [==============================] - 41s 677ms/step - loss: 0.6242 - accuracy: 0.7494 - val_loss: 0.3171 - val_accuracy: 0.9051\n",
      "Epoch 9/20\n",
      "61/61 [==============================] - 47s 767ms/step - loss: 0.6091 - accuracy: 0.7555 - val_loss: 0.4668 - val_accuracy: 0.8182\n",
      "Epoch 10/20\n",
      "61/61 [==============================] - 63s 1s/step - loss: 0.5302 - accuracy: 0.7924 - val_loss: 0.4168 - val_accuracy: 0.8340\n",
      "Epoch 11/20\n",
      "61/61 [==============================] - 50s 808ms/step - loss: 0.4888 - accuracy: 0.8211 - val_loss: 0.2930 - val_accuracy: 0.8893\n",
      "Epoch 12/20\n",
      "61/61 [==============================] - 44s 723ms/step - loss: 0.4654 - accuracy: 0.8268 - val_loss: 0.2892 - val_accuracy: 0.8893\n",
      "Epoch 13/20\n",
      "61/61 [==============================] - 42s 685ms/step - loss: 0.4640 - accuracy: 0.8186 - val_loss: 0.2848 - val_accuracy: 0.9130\n",
      "Epoch 14/20\n",
      "61/61 [==============================] - 39s 644ms/step - loss: 0.4250 - accuracy: 0.8339 - val_loss: 0.4864 - val_accuracy: 0.8419\n",
      "Epoch 15/20\n",
      "61/61 [==============================] - 51s 834ms/step - loss: 0.4362 - accuracy: 0.8380 - val_loss: 0.3195 - val_accuracy: 0.8814\n",
      "Epoch 16/20\n",
      "61/61 [==============================] - 41s 669ms/step - loss: 0.3679 - accuracy: 0.8662 - val_loss: 0.2697 - val_accuracy: 0.9130\n",
      "Epoch 17/20\n",
      "61/61 [==============================] - 39s 642ms/step - loss: 0.3856 - accuracy: 0.8601 - val_loss: 0.2016 - val_accuracy: 0.9289\n",
      "Epoch 18/20\n",
      "61/61 [==============================] - 41s 675ms/step - loss: 0.4011 - accuracy: 0.8452 - val_loss: 0.4544 - val_accuracy: 0.8024\n",
      "Epoch 19/20\n",
      "61/61 [==============================] - 41s 666ms/step - loss: 0.3639 - accuracy: 0.8601 - val_loss: 0.3606 - val_accuracy: 0.8498\n",
      "Epoch 20/20\n",
      "61/61 [==============================] - 43s 711ms/step - loss: 0.3645 - accuracy: 0.8580 - val_loss: 0.3787 - val_accuracy: 0.8458\n"
     ]
    }
   ],
   "source": [
    "# Training the CNN on the Training set & evaluating it on the validation set\n",
    "# model.fit(x = train_df, validation_data = valid_df, epochs = 10)\n",
    "history = model.fit(train_df, validation_data = valid_df, epochs = 20)"
   ]
  },
  {
   "cell_type": "code",
   "execution_count": 31,
   "metadata": {},
   "outputs": [
    {
     "data": {
      "image/png": "[encoded data removed]",
      "text/plain": [
       "<Figure size 1000x500 with 1 Axes>"
      ]
     },
     "metadata": {},
     "output_type": "display_data"
    },
    {
     "data": {
      "image/png": "[encoded data removed]",
      "text/plain": [
       "<Figure size 1000x500 with 1 Axes>"
      ]
     },
     "metadata": {},
     "output_type": "display_data"
    }
   ],
   "source": [
    "plt.plot(history.history['accuracy'])\n",
    "plt.plot(history.history['val_accuracy'])\n",
    "plt.title('model accuracy')\n",
    "plt.ylabel('accuracy')\n",
    "plt.xlabel('epoch')\n",
    "plt.legend(['train', 'validation'], loc='upper left')\n",
    "plt.show()\n",
    "# summarize history for loss\n",
    "plt.plot(history.history['loss'])\n",
    "plt.plot(history.history['val_loss'])\n",
    "plt.title('model loss')\n",
    "plt.ylabel('loss')\n",
    "plt.xlabel('epoch')\n",
    "plt.legend(['train', 'validation'], loc='upper left')\n",
    "plt.show()"
   ]
  },
  {
   "cell_type": "markdown",
   "metadata": {},
   "source": [
    "## 4. Making predictions"
   ]
  },
  {
   "cell_type": "code",
   "execution_count": 32,
   "metadata": {},
   "outputs": [
    {
     "name": "stdout",
     "output_type": "stream",
     "text": [
      "8/8 [==============================] - 2s 219ms/step - loss: 0.3787 - accuracy: 0.8458\n"
     ]
    },
    {
     "data": {
      "text/plain": [
       "[0.3786902129650116, 0.8458498120307922]"
      ]
     },
     "execution_count": 32,
     "metadata": {},
     "output_type": "execute_result"
    }
   ],
   "source": [
    "model.evaluate(valid_df)"
   ]
  },
  {
   "cell_type": "code",
   "execution_count": 33,
   "metadata": {},
   "outputs": [
    {
     "name": "stdout",
     "output_type": "stream",
     "text": [
      "1/1 [==============================] - 0s 141ms/step\n"
     ]
    },
    {
     "data": {
      "text/plain": [
       "'diseased cotton plant'"
      ]
     },
     "execution_count": 33,
     "metadata": {},
     "output_type": "execute_result"
    }
   ],
   "source": [
    "# test_image = image.load_img('/kaggle/input/cotton-disease-dataset/Cotton Disease/test/fresh cotton plant/dsd (223).jpg', target_size = (128, 128))\n",
    "# test_image\n",
    "\n",
    "\n",
    "pred = [\"diseased cotton leaf\",\"diseased cotton plant\",\"fresh cotton leaf\",\"fresh cotton plant\"]\n",
    "test_image = image.load_img(r\"C:\\Users\\Natha\\OneDrive\\Desktop\\Senior Project\\Cotton Disease\\test\\fresh cotton plant\\dsd (264)_iaip.jpg\", target_size = (128, 128))\n",
    "test_image = image.img_to_array(test_image)\n",
    "test_image=test_image/255\n",
    "test_image = np.expand_dims(test_image, axis = 0)\n",
    "result = model.predict(test_image)\n",
    "pred[result.argmax()]"
   ]
  },
  {
   "cell_type": "code",
   "execution_count": 34,
   "metadata": {},
   "outputs": [
    {
     "name": "stdout",
     "output_type": "stream",
     "text": [
      "1/1 [==============================] - 0s 40ms/step\n"
     ]
    },
    {
     "data": {
      "text/plain": [
       "'fresh cotton leaf'"
      ]
     },
     "execution_count": 34,
     "metadata": {},
     "output_type": "execute_result"
    }
   ],
   "source": [
    "# test_image = image.load_img('/kaggle/input/cotton-disease-dataset/Cotton Disease/test/fresh cotton leaf/d (133)_iaip.jpg', target_size = (128, 128))\n",
    "# test_image\n",
    "\n",
    "pred = [\"diseased cotton leaf\",\"diseased cotton plant\",\"fresh cotton leaf\",\"fresh cotton plant\"]\n",
    "test_image = image.load_img(r\"C:\\Users\\Natha\\OneDrive\\Desktop\\Senior Project\\Cotton Disease\\test\\fresh cotton leaf\\d (76)_iaip - Copy.jpg\", target_size = (128, 128))\n",
    "test_image = image.img_to_array(test_image)\n",
    "test_image=test_image/255\n",
    "test_image = np.expand_dims(test_image, axis = 0)\n",
    "result = model.predict(test_image)\n",
    "pred[result.argmax()]"
   ]
  },
  {
   "cell_type": "code",
   "execution_count": 35,
   "metadata": {},
   "outputs": [
    {
     "name": "stdout",
     "output_type": "stream",
     "text": [
      "1/1 [==============================] - 0s 41ms/step\n"
     ]
    },
    {
     "data": {
      "text/plain": [
       "'diseased cotton plant'"
      ]
     },
     "execution_count": 35,
     "metadata": {},
     "output_type": "execute_result"
    }
   ],
   "source": [
    "# test_image = image.load_img('/kaggle/input/cotton-disease-dataset/Cotton Disease/test/diseased cotton plant/dd (885)_iaip.jpg', target_size = (128,128))\n",
    "# test_image\n",
    "\n",
    "pred = [\"diseased cotton leaf\",\"diseased cotton plant\",\"fresh cotton leaf\",\"fresh cotton plant\"]\n",
    "test_image = image.load_img(r\"C:\\Users\\Natha\\OneDrive\\Desktop\\Senior Project\\Cotton Disease\\test\\diseased cotton plant\\dd (29)_iaip.jpg\", target_size = (128,128))\n",
    "test_image = image.img_to_array(test_image)\n",
    "test_image=test_image/255\n",
    "test_image = np.expand_dims(test_image, axis = 0)\n",
    "result = model.predict(test_image)\n",
    "pred[result.argmax()]"
   ]
  },
  {
   "cell_type": "code",
   "execution_count": 36,
   "metadata": {},
   "outputs": [
    {
     "name": "stdout",
     "output_type": "stream",
     "text": [
      "1/1 [==============================] - 0s 33ms/step\n"
     ]
    },
    {
     "data": {
      "text/plain": [
       "'diseased cotton leaf'"
      ]
     },
     "execution_count": 36,
     "metadata": {},
     "output_type": "execute_result"
    }
   ],
   "source": [
    "# test_image = image.load_img('/kaggle/input/cotton-disease-dataset/Cotton Disease/test/diseased cotton leaf/dis_leaf (153)_iaip.jpg', target_size = (128, 128))\n",
    "# test_image\n",
    "\n",
    "pred = [\"diseased cotton leaf\",\"diseased cotton plant\",\"fresh cotton leaf\",\"fresh cotton plant\"]\n",
    "test_image = image.load_img(r\"C:\\Users\\Natha\\OneDrive\\Desktop\\Senior Project\\Cotton Disease\\test\\diseased cotton leaf\\dis_leaf (124).jpg\", target_size = (128, 128))\n",
    "test_image = image.img_to_array(test_image)\n",
    "test_image=test_image/255\n",
    "test_image = np.expand_dims(test_image, axis = 0)\n",
    "result = model.predict(test_image)\n",
    "pred[result.argmax()]"
   ]
  },
  {
   "cell_type": "markdown",
   "metadata": {},
   "source": [
    "## Save results "
   ]
  },
  {
   "cell_type": "code",
   "execution_count": 37,
   "metadata": {},
   "outputs": [
    {
     "name": "stdout",
     "output_type": "stream",
     "text": [
      "4/4 [==============================] - 3s 706ms/step\n"
     ]
    }
   ],
   "source": [
    "test_df.reset()\n",
    "pred=model.predict(test_df,verbose=1)"
   ]
  },
  {
   "cell_type": "code",
   "execution_count": 38,
   "metadata": {},
   "outputs": [],
   "source": [
    "predicted_class_indices=np.argmax(pred,axis=1)"
   ]
  },
  {
   "cell_type": "code",
   "execution_count": 39,
   "metadata": {},
   "outputs": [],
   "source": [
    "labels = (train_df.class_indices)\n",
    "labels = dict((v,k) for k,v in labels.items())\n",
    "predictions = [labels[k] for k in predicted_class_indices]"
   ]
  },
  {
   "cell_type": "code",
   "execution_count": 40,
   "metadata": {},
   "outputs": [],
   "source": [
    "filenames=test_df.filenames\n",
    "results=pd.DataFrame({\"Filename\":filenames,\n",
    "                      \"Predictions\":predictions})\n",
    "results.to_csv(\"results.csv\",index=False)"
   ]
  }
 ],
 "metadata": {
  "kernelspec": {
   "display_name": "Python 3 (ipykernel)",
   "language": "python",
   "name": "python3"
  },
  "language_info": {
   "codemirror_mode": {
    "name": "ipython",
    "version": 3
   },
   "file_extension": ".py",
   "mimetype": "text/x-python",
   "name": "python",
   "nbconvert_exporter": "python",
   "pygments_lexer": "ipython3",
   "version": "3.9.13"
  },
  "vscode": {
   "interpreter": {
    "hash": "50daf6d4351b19dfa577b1e3d5cf487ac3aff3707ef074d1654ac74ed592f969"
   }
  }
 },
 "nbformat": 4,
 "nbformat_minor": 2
}
